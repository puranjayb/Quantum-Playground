{
 "cells": [
  {
   "cell_type": "code",
   "execution_count": 64,
   "metadata": {},
   "outputs": [
    {
     "name": "stdout",
     "output_type": "stream",
     "text": [
      "[0, 0, 0]\n"
     ]
    }
   ],
   "source": [
    "from qiskit import QuantumCircuit, execute, Aer\n",
    "from qiskit.visualization import plot_histogram\n",
    "\n",
    "def bb84():\n",
    "    # Step 1: Alice prepares the qubits\n",
    "    alice_bits = [0, 1, 0, 0, 1]\n",
    "    alice_bases = [0, 1, 0, 1, 0]\n",
    "    qc_alice = QuantumCircuit(len(alice_bits), len(alice_bits))\n",
    "    for i in range(len(alice_bits)):\n",
    "        if alice_bits[i] == 1:\n",
    "            qc_alice.x(i)\n",
    "        if alice_bases[i] == 1:\n",
    "            qc_alice.h(i)\n",
    "    qc_alice.barrier()\n",
    "\n",
    "    # Print Alice's part\n",
    "    # print('Alice:')\n",
    "    # print('Bits:', alice_bits)\n",
    "    # print('Bases:', alice_bases)\n",
    "\n",
    "    # Step 2: Bob measures the qubits\n",
    "    bob_bases = [1, 0, 0, 1, 0]\n",
    "    for i in range(len(bob_bases)):\n",
    "        if bob_bases[i] == 1:\n",
    "            qc_alice.h(i)\n",
    "    qc_alice.barrier()\n",
    "    for i in range(len(bob_bases)):\n",
    "        qc_alice.measure(i, i)\n",
    "\n",
    "    # Step 3: Compare bases and extract key\n",
    "    backend = Aer.get_backend('qasm_simulator')\n",
    "    job = execute(qc_alice, backend, shots=1)\n",
    "    result = job.result()\n",
    "    counts = result.get_counts(qc_alice)\n",
    "    bob_bits = list(counts.keys())[0]\n",
    "    key = []\n",
    "    for i in range(len(alice_bases)):\n",
    "        if alice_bases[i] == bob_bases[i]:\n",
    "            key.append(int(bob_bits[i]))\n",
    "    \n",
    "    return key\n",
    "\n",
    "key = bb84()\n",
    "print(key)"
   ]
  }
 ],
 "metadata": {
  "kernelspec": {
   "display_name": "venv",
   "language": "python",
   "name": "python3"
  },
  "language_info": {
   "codemirror_mode": {
    "name": "ipython",
    "version": 3
   },
   "file_extension": ".py",
   "mimetype": "text/x-python",
   "name": "python",
   "nbconvert_exporter": "python",
   "pygments_lexer": "ipython3",
   "version": "3.10.12"
  },
  "orig_nbformat": 4
 },
 "nbformat": 4,
 "nbformat_minor": 2
}
